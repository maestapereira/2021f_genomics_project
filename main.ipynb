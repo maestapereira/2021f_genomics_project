{
 "cells": [
  {
   "cell_type": "code",
   "execution_count": 3,
   "metadata": {},
   "outputs": [],
   "source": [
    "import pandas as pd\n",
    "import seaborn as sns\n",
    "import matplotlib.pyplot as plt\n",
    "import numpy as np\n",
    "import os\n",
    "from pathlib import Path\n",
    "\n",
    "from utils import *"
   ]
  },
  {
   "cell_type": "code",
   "execution_count": 5,
   "metadata": {},
   "outputs": [],
   "source": [
    "# import data into dataframe\n",
    "df_feature = pd.read_csv('feature_data.zip', compression = 'zip').drop(columns=['Unnamed: 0'])\n",
    "df_labels = pd.read_csv('label_data.zip', compression = 'zip').drop(columns=['Unnamed: 0'])"
   ]
  },
  {
   "cell_type": "code",
   "execution_count": 11,
   "metadata": {},
   "outputs": [],
   "source": [
    "# whatever path your data is at\n",
    "path=Path('C:/Users/smaes/OneDrive/to_be_desktop/columbia_masters/2021_f/genomics/genomics_project/2021f_genomics_project')"
   ]
  },
  {
   "cell_type": "code",
   "execution_count": 12,
   "metadata": {},
   "outputs": [
    {
     "data": {
      "image/png": "[encoded data removed]",
      "text/plain": [
       "<Figure size 432x288 with 1 Axes>"
      ]
     },
     "metadata": {
      "needs_background": "light"
     },
     "output_type": "display_data"
    },
    {
     "name": "stdout",
     "output_type": "stream",
     "text": [
      "StratifiedShuffleSplit(n_splits=1, random_state=42, test_size=0.3,\n",
      "            train_size=None)\n",
      "StratifiedShuffleSplit(n_splits=1, random_state=42, test_size=0.7,\n",
      "            train_size=None)\n"
     ]
    }
   ],
   "source": [
    "# load data\n",
    "df_feature, df_labels, df_raw = read_data(path)\n",
    "\n",
    "# get number of moa per row, and plot histogram\n",
    "n_moa = get_n_moa(df_labels)\n",
    "get_plot_n_moa(df_labels)\n",
    "\n",
    "# remove labels that occur less than min_label_occur param\n",
    "sel_labels, sel_raw = sel_labels_by_occur(df_labels, df_raw, min_label_occur=100)\n",
    "# remove ids that have more than 1 moa or less than 1 moa\n",
    "n_moa_feature, n_moa_labels = get_n_moa_per_row(df_feature, sel_labels, n_moa_per_row=1)\n",
    "# split data into test train and val\n",
    "df_feat, df_lab = get_test_train_val(n_moa_feature, n_moa_labels)\n",
    "# get split labels\n",
    "train_labels, test_labels, val_labels = split_labels_train_test_val(df_lab)\n",
    "# get split features in pandas DataFrame\n",
    "train_features, test_features, val_features = split_features_train_test_val(df_feat, in_numpy=False)\n",
    "# get split features in numpy ndarray\n",
    "nptrain_features, nptest_features, npval_features = split_features_train_test_val(df_feat, in_numpy=True)"
   ]
  },
  {
   "cell_type": "code",
   "execution_count": null,
   "metadata": {},
   "outputs": [],
   "source": []
  }
 ],
 "metadata": {
  "kernelspec": {
   "display_name": "Python 3",
   "language": "python",
   "name": "python3"
  },
  "language_info": {
   "codemirror_mode": {
    "name": "ipython",
    "version": 3
   },
   "file_extension": ".py",
   "mimetype": "text/x-python",
   "name": "python",
   "nbconvert_exporter": "python",
   "pygments_lexer": "ipython3",
   "version": "3.7.6"
  }
 },
 "nbformat": 4,
 "nbformat_minor": 5
}
